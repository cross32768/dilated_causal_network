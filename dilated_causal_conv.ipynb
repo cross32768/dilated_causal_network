{
 "cells": [
  {
   "cell_type": "code",
   "execution_count": 112,
   "metadata": {},
   "outputs": [],
   "source": [
    "from chainer import optimizer, optimizers, iterators, training, Variable, Chain\n",
    "from chainer.training import extensions\n",
    "import chainer.functions as F\n",
    "import chainer.links as L\n",
    "import chainer\n",
    "\n",
    "import numpy as np\n",
    "import matplotlib.pyplot as plt"
   ]
  },
  {
   "cell_type": "code",
   "execution_count": 113,
   "metadata": {},
   "outputs": [],
   "source": [
    "NT_train = 500 # 学習に使う周期数\n",
    "NP_per_T = 20 # 周期ごとのサンプル点数\n",
    "x = np.linspace(0, NT_train*2*np.pi, NT_train*NP_per_T) \n",
    "y = (np.sin(x)*128 + 128).astype(np.uint8) # クラス分類問題にするため、大雑把に量子化\n",
    "# wavenetの論文ではμ-lawアルゴリズムによってよりよい復元が得られる量子化を行っているようですが、今回はそもそも\n",
    "# 量子化されたデータの予測を目指す問題にします ←　あとで考え直す"
   ]
  },
  {
   "cell_type": "code",
   "execution_count": 126,
   "metadata": {},
   "outputs": [],
   "source": [
    "N_recep = 16 # 受容野の広さ\n",
    "train = []\n",
    "for i in range(NT_train*NP_per_T - N_recep):\n",
    "    train.append((y[i:i+N_recep].astype(np.float32), y[i+N_recep].astype(np.int32)))"
   ]
  },
  {
   "cell_type": "code",
   "execution_count": 127,
   "metadata": {},
   "outputs": [],
   "source": [
    "# イテレータの作成\n",
    "batchsize = 64\n",
    "train_itr = iterators.SerialIterator(train, batchsize)"
   ]
  },
  {
   "cell_type": "code",
   "execution_count": 128,
   "metadata": {},
   "outputs": [],
   "source": [
    "# 比較用の多層パーセプトロン\n",
    "class MLP(Chain):\n",
    "    \n",
    "    def __init__(self, n_mid_unit = 100):\n",
    "        super(MLP, self).__init__()\n",
    "        with self.init_scope():\n",
    "            self.l1 = L.Linear(N_recep, n_mid_unit)\n",
    "            self.l2 = L.Linear(n_mid_unit, n_mid_unit)\n",
    "            self.l3 = L.Linear(n_mid_unit, 256)\n",
    "    \n",
    "    def __call__(self, x):\n",
    "        h = F.relu(self.l1(x))\n",
    "        h = F.relu(self.l2(h))\n",
    "        h = self.l3(h)\n",
    "        return h"
   ]
  },
  {
   "cell_type": "code",
   "execution_count": 146,
   "metadata": {},
   "outputs": [],
   "source": [
    "def train(model_object, max_epoch):\n",
    "    train_itr.epoch = 0\n",
    "    \n",
    "    model = L.Classifier(model_object)\n",
    "    optimizer = optimizers.Adam()\n",
    "    optimizer.setup(model)\n",
    "\n",
    "    gpu_id = -1\n",
    "    if gpu_id >= 0:\n",
    "        model.to_gpu(gpu_id)\n",
    "    \n",
    "    updater = training.StandardUpdater(train_itr, optimizer, device=gpu_id)\n",
    "    \n",
    "    trainer = training.Trainer(updater, (max_epoch, 'epoch'), out='{}_result'.format(model_object.__class__.__name__))\n",
    "    trainer.extend(extensions.LogReport())\n",
    "    trainer.extend(extensions.PrintReport(['epoch', 'main/loss', 'main/accuracy', 'elapsed_time']))\n",
    "    trainer.extend(extensions.PlotReport(['main/loss'], x_key='epoch', file_name='loss.png'))\n",
    "    trainer.extend(extensions.PlotReport(['main/accuracy'], x_key='epoch', file_name='accuracy.png'))\n",
    "    \n",
    "    trainer.run()  \n",
    "    del trainer\n",
    "    \n",
    "    return model"
   ]
  },
  {
   "cell_type": "code",
   "execution_count": 148,
   "metadata": {
    "scrolled": true
   },
   "outputs": [
    {
     "name": "stdout",
     "output_type": "stream",
     "text": [
      "epoch       main/loss   main/accuracy  elapsed_time\n",
      "1           25.2408     0.0293236      0.846408      \n",
      "2           4.89569     0.0573918      1.88955       \n",
      "3           4.68468     0.0849359      2.95375       \n",
      "4           4.50854     0.0921474      4.20134       \n",
      "5           4.37234     0.0941506      5.57081       \n",
      "6           4.2404      0.0997596      6.98862       \n",
      "7           4.08864     0.101663       8.34331       \n",
      "8           3.98116     0.11228        9.91151       \n",
      "9           3.87503     0.11869        11.3029       \n",
      "10          3.79351     0.129307       12.7701       \n",
      "11          3.71116     0.130809       14.5822       \n",
      "12          3.6423      0.142428       16.3552       \n",
      "13          3.57762     0.149038       18.0579       \n",
      "14          3.52483     0.159655       19.5302       \n",
      "15          3.4721      0.165264       21.1045       \n",
      "16          3.44072     0.169471       22.6588       \n",
      "17          3.38763     0.183894       24.1109       \n",
      "18          3.34681     0.182091       25.6449       \n",
      "19          3.31611     0.185497       27.2394       \n",
      "20          3.28366     0.191306       28.8296       \n"
     ]
    },
    {
     "data": {
      "text/plain": [
       "<chainer.links.model.classifier.Classifier at 0x20bd3367748>"
      ]
     },
     "execution_count": 148,
     "metadata": {},
     "output_type": "execute_result"
    }
   ],
   "source": [
    "train(MLP(), 20)"
   ]
  },
  {
   "cell_type": "code",
   "execution_count": 153,
   "metadata": {},
   "outputs": [
    {
     "data": {
      "image/png": "[encoded data removed]",
      "text/plain": [
       "<IPython.core.display.Image object>"
      ]
     },
     "execution_count": 153,
     "metadata": {},
     "output_type": "execute_result"
    }
   ],
   "source": [
    "from IPython.display import Image\n",
    "Image(filename='MLP_result/loss.png')"
   ]
  },
  {
   "cell_type": "code",
   "execution_count": 154,
   "metadata": {},
   "outputs": [
    {
     "data": {
      "image/png": "[encoded data removed]",
      "text/plain": [
       "<IPython.core.display.Image object>"
      ]
     },
     "execution_count": 154,
     "metadata": {},
     "output_type": "execute_result"
    }
   ],
   "source": [
    "Image(filename='MLP_result/accuracy.png')"
   ]
  },
  {
   "cell_type": "code",
   "execution_count": null,
   "metadata": {},
   "outputs": [],
   "source": []
  }
 ],
 "metadata": {
  "kernelspec": {
   "display_name": "Python 3",
   "language": "python",
   "name": "python3"
  },
  "language_info": {
   "codemirror_mode": {
    "name": "ipython",
    "version": 3
   },
   "file_extension": ".py",
   "mimetype": "text/x-python",
   "name": "python",
   "nbconvert_exporter": "python",
   "pygments_lexer": "ipython3",
   "version": "3.6.4"
  }
 },
 "nbformat": 4,
 "nbformat_minor": 2
}
